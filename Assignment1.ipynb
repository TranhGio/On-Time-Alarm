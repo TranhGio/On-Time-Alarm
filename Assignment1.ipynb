{
  "nbformat": 4,
  "nbformat_minor": 0,
  "metadata": {
    "colab": {
      "name": "Assignment1.ipynb",
      "provenance": [],
      "include_colab_link": true
    },
    "kernelspec": {
      "name": "python3",
      "display_name": "Python 3"
    }
  },
  "cells": [
    {
      "cell_type": "markdown",
      "metadata": {
        "id": "view-in-github",
        "colab_type": "text"
      },
      "source": [
        "<a href=\"https://colab.research.google.com/github/gerin98/Alarm/blob/master/Assignment1.ipynb\" target=\"_parent\"><img src=\"https://colab.research.google.com/assets/colab-badge.svg\" alt=\"Open In Colab\"/></a>"
      ]
    },
    {
      "cell_type": "markdown",
      "metadata": {
        "id": "UjvPYyzI25rC",
        "colab_type": "text"
      },
      "source": [
        "## Problem 1 - Clustering with K-means"
      ]
    },
    {
      "cell_type": "code",
      "metadata": {
        "id": "dmWPD-uyJfa0",
        "colab_type": "code",
        "colab": {}
      },
      "source": [
        "import numpy as np\n",
        "import matplotlib.pyplot as plt\n",
        "from sklearn.datasets import load_breast_cancer\n",
        "\n",
        "dataset = load_breast_cancer()\n",
        "\n",
        "# dimensions are 569 x 30\n",
        "# 569 row entries, 30 features in each row\n",
        "# there are 2 targets benign and malignant\n",
        "\n",
        "# import data as array\n",
        "breast_cancer_data = np.array(dataset.data, float)\n",
        "\n",
        "# dictionary to store all predictions made. Used to select the iteration that \n",
        "# resulted in the least loss\n",
        "# key: loss \n",
        "# value: (c, centroids)\n",
        "all_predictions = {}"
      ],
      "execution_count": 84,
      "outputs": []
    },
    {
      "cell_type": "markdown",
      "metadata": {
        "id": "34pE1yYQ0rok",
        "colab_type": "text"
      },
      "source": [
        "#### Choose Number of Clusters\n",
        "- pass in the dataset and the number of clusters we expect\n",
        "- get n random numbers from the range x without replacement\n",
        "  - n is the number of clusters\n",
        "  - x is the number of data points\n",
        "- select data points from the dataset at these indices as your starting centroids"
      ]
    },
    {
      "cell_type": "code",
      "metadata": {
        "id": "iRcPO7qz0wSm",
        "colab_type": "code",
        "colab": {}
      },
      "source": [
        "def select_clusters(_data, _num_clusters):\n",
        "  random_centroids = np.random.choice(range(0, _data.shape[0]), _num_clusters, \n",
        "                                      replace = False)\n",
        "  return np.take(_data, random_centroids, axis = 0)"
      ],
      "execution_count": 85,
      "outputs": []
    },
    {
      "cell_type": "markdown",
      "metadata": {
        "id": "C1yDB-5kc13t",
        "colab_type": "text"
      },
      "source": [
        "#### Closest Centroids\n",
        "- pass in the dataset and the centroids\n",
        "- find the distance between each point and centroid\n",
        "- this can be done by finding the norm between these 2 points\n",
        "- square this result\n",
        "- both distances are stored in c where column1 corresponds to centroid1, column2 corresponds to centroid2 etc."
      ]
    },
    {
      "cell_type": "code",
      "metadata": {
        "id": "9X9lkQA-dYb7",
        "colab_type": "code",
        "colab": {}
      },
      "source": [
        "def closest_centroids(_data, centroids):\n",
        "  c = np.zeros((_data.shape[0], centroids.shape[0]))\n",
        "  for x in range(_data.shape[0]):\n",
        "    dist = np.linalg.norm(_data[x] - centroids, axis=1)\n",
        "    c[x] = np.square(dist)\n",
        "  return c"
      ],
      "execution_count": 86,
      "outputs": []
    },
    {
      "cell_type": "markdown",
      "metadata": {
        "id": "nbkPZaxihqoZ",
        "colab_type": "text"
      },
      "source": [
        "#### Cluster Assignment\n",
        "- pass in an array of size (# data points, # clusters)\n",
        "- each data point (row) will contain it's distance to every cluster (col)\n",
        "- assign each data point to its closest cluster by finding the index of the smallest value in each row\n",
        "- returns an array of size (# data points, 1) where each row contains the centroid that point is assigned to\n",
        "- eg. if `array[k] == 0` means point k is part of centroid 0"
      ]
    },
    {
      "cell_type": "code",
      "metadata": {
        "id": "UCiYV0UreVrH",
        "colab_type": "code",
        "colab": {}
      },
      "source": [
        "def cluster_assignment(closest):\n",
        "  return closest.argmin(axis=1)"
      ],
      "execution_count": 87,
      "outputs": []
    },
    {
      "cell_type": "markdown",
      "metadata": {
        "id": "_L-UCsHfi0Mv",
        "colab_type": "text"
      },
      "source": [
        "#### Move Centroid\n",
        "- takes data set, centroids, and the centroid assignment for each point\n",
        "- get the subset of the data set assigned to each centroid (eg. get all data points assigned to centroid 1)\n",
        "- calculate the mean of this subset\n",
        "  - mean is calculated along the column (avg value of each feature)\n",
        "- replace the old centroid, using the mean value as the new centroid\n",
        "- return the array of new centroids"
      ]
    },
    {
      "cell_type": "code",
      "metadata": {
        "id": "4WUVYopqi2v7",
        "colab_type": "code",
        "colab": {}
      },
      "source": [
        "def move_centroid(_data, centroids, c):\n",
        "  new_centroids = np.zeros_like(centroids)\n",
        "  for x in range(centroids.shape[0]):\n",
        "      assigned_points = _data[c == x]\n",
        "      centroid_mean = np.mean(assigned_points, axis = 0)\n",
        "      new_centroids[x] = centroid_mean\n",
        "  return new_centroids"
      ],
      "execution_count": 88,
      "outputs": []
    },
    {
      "cell_type": "markdown",
      "metadata": {
        "id": "HIjL2FQR9qq5",
        "colab_type": "text"
      },
      "source": [
        "#### Distortion\n",
        "- take in the data set, centroids and the centroid assignment for each point\n",
        "- calculate the loss of this prediction\n",
        "- use the norm to calculate the distance between each data point and its centroid. Square this value to get the error\n",
        "- Accumulate the error for each data point and divide by the number of data points to get the average error"
      ]
    },
    {
      "cell_type": "code",
      "metadata": {
        "id": "qItwsq6Aq6ji",
        "colab_type": "code",
        "colab": {}
      },
      "source": [
        "def calculate_loss(_data, centroids, c):\n",
        "  error_sum = 0\n",
        "  for x in range(centroids.shape[0]):\n",
        "    assigned_points = _data[c == x]\n",
        "    error_dist = np.linalg.norm(assigned_points - centroids[x], axis=1)\n",
        "    error_square = np.square(error_dist)\n",
        "    error_sum += error_square.sum()\n",
        "  error_avg = error_sum / _data.shape[0]\n",
        "  return error_avg"
      ],
      "execution_count": 89,
      "outputs": []
    },
    {
      "cell_type": "markdown",
      "metadata": {
        "id": "S5HiOlnHinfa",
        "colab_type": "text"
      },
      "source": [
        "#### Run the Algorithm\n",
        "- `predict` runs the k-means algorithm\n",
        "  - the algorithm is run for a maximum of 100 iterations. If the centroids dont change between iterations, we early return.\n",
        "  - it will return the cluster assignment for each data point and the cluster centroids\n",
        "- `k_means` re-runs the k-means algorithm 5 times, calculating the loss for each prediction. It returns the prediction that experienced the least loss. The best prediction taken over multiple executions of the algorithm will reduce the chance of returning a solution that is not locally optimal\n",
        "  - it will return the cluster assignment for each data point and the cluster centroids"
      ]
    },
    {
      "cell_type": "code",
      "metadata": {
        "id": "HmeSSx7W3HZK",
        "colab_type": "code",
        "colab": {}
      },
      "source": [
        "def predict(_data, centroids):\n",
        "  for i in range(100):\n",
        "    old_centroids = centroids\n",
        "\n",
        "    closest = closest_centroids(_data, centroids)\n",
        "    c = cluster_assignment(closest)\n",
        "    centroids = move_centroid(_data, centroids, c)\n",
        "\n",
        "    comparison = old_centroids == centroids\n",
        "    if comparison.all():\n",
        "      break\n",
        "\n",
        "  return c, centroids"
      ],
      "execution_count": 90,
      "outputs": []
    },
    {
      "cell_type": "code",
      "metadata": {
        "id": "4ATKERBh3_XW",
        "colab_type": "code",
        "colab": {}
      },
      "source": [
        "def k_means(_data, _num_clusters):\n",
        "  all_predictions.clear()\n",
        "  \n",
        "  for i in range(5):\n",
        "    centroids = select_clusters(_data, _num_clusters)\n",
        "    c, centroids = predict(_data, centroids)\n",
        "    l = calculate_loss(_data, centroids, c)\n",
        "    all_predictions[l] = (c, centroids)\n",
        "  \n",
        "  i = min(all_predictions.keys())\n",
        "  return all_predictions[i][0], all_predictions[i][1]"
      ],
      "execution_count": 91,
      "outputs": []
    },
    {
      "cell_type": "markdown",
      "metadata": {
        "id": "t7b1X-TL0gBQ",
        "colab_type": "text"
      },
      "source": [
        "### Q1\n",
        "- the function `k-means` takes in your dataset and a value of K and returns the cluster centroids along with the cluster assignment for each data point"
      ]
    },
    {
      "cell_type": "code",
      "metadata": {
        "id": "OkSfY4aaz3UG",
        "colab_type": "code",
        "colab": {}
      },
      "source": [
        "# dataset to use and number of clusters we expect\n",
        "_data, _k = breast_cancer_data, 4\n",
        "\n",
        "# calculate k means. Returns the centroid assignments and the centroids\n",
        "c, centroids = k_means(_data, _k)"
      ],
      "execution_count": 92,
      "outputs": []
    },
    {
      "cell_type": "markdown",
      "metadata": {
        "id": "yQXEQN_E9QuZ",
        "colab_type": "text"
      },
      "source": [
        "### Q2\n",
        "- the function `plot_loss` runs the k-means algorithm 6 times with values of K ranging from 2 to 7 and plots the loss\n",
        "- lines 5 - 7 are responsible for actually running the algorithm with different values of K\n",
        "- the inputs to the algorithm here is the dataset `_data` from `load_breast_cancer` which contains 562 datapoints with 30 features. It also takes in an input `_x` which represents the K value. `_data` remains constant among every iteration but `_x` will increment by 1 each time to calculate K-means for the dataset with values of K varying from 2 to 7"
      ]
    },
    {
      "cell_type": "code",
      "metadata": {
        "id": "-jkA_B9K9ovM",
        "colab_type": "code",
        "colab": {}
      },
      "source": [
        "def plot_loss(_data):\n",
        "  losses = np.zeros(6)\n",
        "  num_clusters = np.array(range(2,8)) \n",
        "\n",
        "  for x in range(2, 8):\n",
        "    c, centroids = k_means(_data, x)\n",
        "    losses[x-2] = calculate_loss(_data, centroids, c)\n",
        "\n",
        "  plt.plot(num_clusters, losses)\n",
        "  plt.ylabel('Distortion, J')\n",
        "  plt.xlabel('Number of clusters, K')\n",
        "  plt.title('Distortion of K-means clustering for the breast cancer dataset')\n",
        "  plt.show()"
      ],
      "execution_count": 158,
      "outputs": []
    },
    {
      "cell_type": "markdown",
      "metadata": {
        "id": "FIcutY65PZr4",
        "colab_type": "text"
      },
      "source": [
        "### Q3\n",
        "- call the function `plot_loss` to run the algorithm with values of K ranging from 2 to 7 and plot the loss for each iteration"
      ]
    },
    {
      "cell_type": "code",
      "metadata": {
        "id": "WXt4GaYNNSK9",
        "colab_type": "code",
        "colab": {
          "base_uri": "https://localhost:8080/",
          "height": 295
        },
        "outputId": "7200c881-0fee-4e4f-c1d0-3397f5f3b248"
      },
      "source": [
        "# dataset to use\n",
        "_data = breast_cancer_data\n",
        "\n",
        "# plot the loss of the k-means algorithm with various values of K\n",
        "plot_loss(_data)"
      ],
      "execution_count": 159,
      "outputs": [
        {
          "output_type": "display_data",
          "data": {
            "image/png": "[encoded data removed]",
            "text/plain": [
              "<Figure size 432x288 with 1 Axes>"
            ]
          },
          "metadata": {
            "tags": [],
            "needs_background": "light"
          }
        }
      ]
    },
    {
      "cell_type": "markdown",
      "metadata": {
        "id": "rsWD5fJuQWqh",
        "colab_type": "text"
      },
      "source": [
        "### Q4\n",
        "- A good value for K qould be 4. We can see from the elbow graph above that the slope changes dramatically when K = 4. The \"elbow\" or the inflection point of the curve shows that the model is a good fit at this point."
      ]
    }
  ]
}