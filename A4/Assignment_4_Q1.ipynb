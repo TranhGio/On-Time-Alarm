{
  "nbformat": 4,
  "nbformat_minor": 0,
  "metadata": {
    "colab": {
      "name": "Assignment_4_Q1.ipynb",
      "provenance": [],
      "collapsed_sections": [],
      "include_colab_link": true
    },
    "kernelspec": {
      "name": "python3",
      "display_name": "Python 3"
    }
  },
  "cells": [
    {
      "cell_type": "markdown",
      "metadata": {
        "id": "view-in-github",
        "colab_type": "text"
      },
      "source": [
        "<a href=\"https://colab.research.google.com/github/gerin98/Alarm/blob/master/A4/Assignment_4_Q1.ipynb\" target=\"_parent\"><img src=\"https://colab.research.google.com/assets/colab-badge.svg\" alt=\"Open In Colab\"/></a>"
      ]
    },
    {
      "cell_type": "markdown",
      "metadata": {
        "id": "oz9MhPEUMrkC"
      },
      "source": [
        "**Assignment**: Designing and Tuning a Convolutional Neural Network (CNN)\n",
        "\n",
        "**Assignment Description**: There are four parts to this assignment\n",
        "\n",
        "1.   Building a CNN\n",
        "2.   Training and Tuning a CNN\n",
        "3.   Trying Out a New Dataset\n",
        "4.   Open-Ended Exploration\n",
        "\n",
        "You will be largely guided through the first two parts. The third and fourth part are discussion based questions. \n",
        "\n",
        "**Before the experiment, make sure that you have GPU enabled. This setting can be found under *Tools --> Settings***"
      ]
    },
    {
      "cell_type": "code",
      "metadata": {
        "id": "jHvVs2GqXxNF",
        "colab": {
          "base_uri": "https://localhost:8080/"
        },
        "outputId": "617311fe-39c8-44ba-b015-b3203518fda7"
      },
      "source": [
        "#Install Objax\n",
        "!pip --quiet install  objax\n",
        "import objax"
      ],
      "execution_count": 1,
      "outputs": [
        {
          "output_type": "stream",
          "text": [
            "\u001b[?25l\r\u001b[K     |████████                        | 10kB 20.4MB/s eta 0:00:01\r\u001b[K     |███████████████▉                | 20kB 23.7MB/s eta 0:00:01\r\u001b[K     |███████████████████████▉        | 30kB 13.6MB/s eta 0:00:01\r\u001b[K     |███████████████████████████████▊| 40kB 10.4MB/s eta 0:00:01\r\u001b[K     |████████████████████████████████| 51kB 5.0MB/s \n",
            "\u001b[?25h  Building wheel for objax (setup.py) ... \u001b[?25l\u001b[?25hdone\n"
          ],
          "name": "stdout"
        }
      ]
    },
    {
      "cell_type": "code",
      "metadata": {
        "id": "xqQf8f2RBDcx"
      },
      "source": [
        "import tensorflow as tf \n",
        "import tensorflow_datasets as tfds\n",
        "import numpy as np\n",
        "import jax.numpy as jn\n",
        "import random \n",
        "import matplotlib.pyplot as plt"
      ],
      "execution_count": 2,
      "outputs": []
    },
    {
      "cell_type": "markdown",
      "metadata": {
        "id": "w_7vcWRFO39r"
      },
      "source": [
        "##**Part 1. Building a CNN** \n",
        "\n",
        "Before we build our CNN model, let's first import a dataset. For our experiment, we load the CIFAR10 dataset from Tensorflow's dataset repository. The CIFAR10 dataset consists of 60,000 32x32 colour images in 10 classes, with 6000 images per class. The 10 different classes represent airplanes, cars, birds, cats, deer, dogs, frogs, horses, ships, and trucks.\n",
        "\n",
        "After loading the dataset, we split the dataset into training, validation and test set. The dataset is originally stored as 50,000 training examples and 10,000 test examples. Instead, we will combine them together and make our own split.\n",
        "\n",
        "Do not change split ratio for now."
      ]
    },
    {
      "cell_type": "code",
      "metadata": {
        "id": "e5VQDzs1XodT",
        "colab": {
          "base_uri": "https://localhost:8080/"
        },
        "outputId": "5562198f-4e99-4a06-d194-21631978b44b"
      },
      "source": [
        "#.load_data() by default returns a split between training and test set. \n",
        "# We then adjust the training set into a format that can be accepted by our CNN\n",
        "(X_train, Y_train), (X_test, Y_test) = tf.keras.datasets.cifar10.load_data()\n",
        "X_train = X_train.transpose(0, 3, 1, 2) / 255.0\n",
        "Y_train = Y_train.flatten()\n",
        "X_test = X_test.transpose(0, 3, 1, 2) / 255.0\n",
        "Y_test = Y_test.flatten()\n",
        "\n",
        "np.random.seed(1)\n",
        "# To create a validation set, we first concate the original splitted dataset into a single dataset \n",
        "# then randomly shuffle the images and labels in the same way (seed = 1)\n",
        "X_data = np.concatenate([X_train, X_test], axis = 0)\n",
        "Y_data = np.concatenate([Y_train, Y_test], axis = 0)\n",
        "\n",
        "N = np.arange(len(X_data))\n",
        "np.random.shuffle(N)\n",
        "X_data = X_data[N]\n",
        "Y_data = Y_data[N]\n",
        "\n",
        "#Next, we partition the randomly shuffled dataset into training, validation and testset according a ratio\n",
        "train_ratio = 0.80\n",
        "valid_ratio = 0.1\n",
        "n_train = int(len(X_data) * train_ratio)\n",
        "n_valid = int(len(X_data) * valid_ratio)\n",
        "print(\"\\nTraining ratio: %.2f, Validation ratio: %.2f, Test ratio: %.2f\" % (train_ratio, valid_ratio, 1 - train_ratio - valid_ratio))\n",
        "print(\"\\nTraining samples: %d, Validation samples: %d, Test samples: %d\" % (n_train, n_valid, len(X_data) - n_train - n_valid))\n",
        "print(\"\\nIterations in training set for 1 epoch with a batch size of 32: %d\" % (n_train/32))\n",
        "print(\"\\nIterations in 30 epochs: %d\" % (30*n_train/32))\n",
        "\n",
        "X_train, X_valid, X_test = X_data[:n_train], X_data[n_train:n_train+n_valid], X_data[n_train+n_valid:]\n",
        "Y_train, Y_valid, Y_test = Y_data[:n_train], Y_data[n_train:n_train+n_valid], Y_data[n_train+n_valid:]"
      ],
      "execution_count": 12,
      "outputs": [
        {
          "output_type": "stream",
          "text": [
            "\n",
            "Training ratio: 0.80, Validation ratio: 0.10, Test ratio: 0.10\n",
            "\n",
            "Training samples: 48000, Validation samples: 6000, Test samples: 6000\n",
            "\n",
            "Iterations in training set for 1 epoch with a batch size of 32: 1500\n",
            "\n",
            "Iterations in 30 epochs: 45000\n"
          ],
          "name": "stdout"
        }
      ]
    },
    {
      "cell_type": "markdown",
      "metadata": {
        "id": "szDmexFGT7Qs"
      },
      "source": [
        "\n",
        "Next we will construct a **Base Model**, which in our case is a small CNN."
      ]
    },
    {
      "cell_type": "code",
      "metadata": {
        "id": "_Eeh6jvfBV4p",
        "colab": {
          "base_uri": "https://localhost:8080/"
        },
        "outputId": "230d9943-c638-4648-8804-5520fcea753b"
      },
      "source": [
        "class ConvNet(objax.Module):\n",
        "  def __init__(self, number_of_channels = 3, number_of_classes = 10):\n",
        "    self.conv_1 = objax.nn.Sequential([objax.nn.Conv2D(number_of_channels, 16, 2), \n",
        "                                       objax.functional.relu])\n",
        "    self.conv_2 = objax.nn.Sequential([objax.nn.Conv2D(16, 32, 2), \n",
        "                                       objax.functional.relu])\n",
        "    self.linear = objax.nn.Linear(32, number_of_classes)\n",
        "\n",
        "  def __call__(self, x):\n",
        "    x = objax.functional.max_pool_2d(self.conv_1(x), 2, 2)\n",
        "    x = self.conv_2(x)\n",
        "  \n",
        "    x = x.mean((2,3)) #<--- global average pooling \n",
        "    x = self.linear(x)\n",
        "    return x\n",
        "\n",
        "#The following line creates the CNN\n",
        "model = ConvNet()\n",
        "print(model.vars())"
      ],
      "execution_count": null,
      "outputs": [
        {
          "output_type": "stream",
          "text": [
            "(ConvNet).conv_1(Sequential)[0](Conv2D).b       16 (16, 1, 1)\n",
            "(ConvNet).conv_1(Sequential)[0](Conv2D).w      192 (2, 2, 3, 16)\n",
            "(ConvNet).conv_2(Sequential)[0](Conv2D).b       32 (32, 1, 1)\n",
            "(ConvNet).conv_2(Sequential)[0](Conv2D).w     2048 (2, 2, 16, 32)\n",
            "(ConvNet).linear(Linear).b                      10 (10,)\n",
            "(ConvNet).linear(Linear).w                     320 (32, 10)\n",
            "+Total(6)                                     2618\n"
          ],
          "name": "stdout"
        }
      ]
    },
    {
      "cell_type": "markdown",
      "metadata": {
        "id": "Crz2dQZBds89"
      },
      "source": [
        "Before we train our conv net, let's try to better understand concepts of convolution filter and linear layer. In the following, you will take the first very image of the training set, create a simple convolution routine, and show that our own routine matches what Objax returns. \n",
        "\n"
      ]
    },
    {
      "cell_type": "code",
      "metadata": {
        "id": "Epa7ETf6XddH",
        "colab": {
          "base_uri": "https://localhost:8080/",
          "height": 283
        },
        "outputId": "c436100d-2e6c-454e-d511-a3993d6417f8"
      },
      "source": [
        "#Let's plot the first image in the training set.\n",
        "plt.imshow(X_train[0].transpose(1,2,0))"
      ],
      "execution_count": null,
      "outputs": [
        {
          "output_type": "execute_result",
          "data": {
            "text/plain": [
              "<matplotlib.image.AxesImage at 0x7efe10015ac8>"
            ]
          },
          "metadata": {
            "tags": []
          },
          "execution_count": 67
        },
        {
          "output_type": "display_data",
          "data": {
            "image/png": "[encoded data removed]",
            "text/plain": [
              "<Figure size 432x288 with 1 Axes>"
            ]
          },
          "metadata": {
            "tags": [],
            "needs_background": "light"
          }
        }
      ]
    },
    {
      "cell_type": "markdown",
      "metadata": {
        "id": "PQjS06vgXZ7r"
      },
      "source": [
        "Next, we will pass our image through Objax's convolution routine. Carefully examine the following code and try to understand the dimension of the filter weights and the output. "
      ]
    },
    {
      "cell_type": "code",
      "metadata": {
        "id": "vFBbJHBpXXUc",
        "colab": {
          "base_uri": "https://localhost:8080/"
        },
        "outputId": "b0975abe-8a07-4b24-d02c-8af0c1ab1ded"
      },
      "source": [
        "# We append the first image with a batch size of 1 so it can be fed into a convolution layer\n",
        "my_image = np.expand_dims(X_train[0], 0)\n",
        "\n",
        "#Consider a very simple CNN filter with stride = 1 and no padding ('VALID').\n",
        "Conv2d = objax.nn.Conv2D(nin = 3, nout = 2, k = 1, strides = 1, padding = 'VALID', use_bias = False)\n",
        "\n",
        "filter_weights = Conv2d.w.value #This is the initial weight of the filter, which we gradually update when training, we ignore bias for now\n",
        "\n",
        "print(\"Filter weights:\", filter_weights.shape)\n",
        "print(\"Conv output:\", Conv2d(my_image))\n",
        "print(\"Conv output shape:\", np.shape(Conv2d(my_image)))"
      ],
      "execution_count": null,
      "outputs": [
        {
          "output_type": "stream",
          "text": [
            "Filter weights: (1, 1, 3, 2)\n",
            "Conv output: [[[[0.12672886 0.12282111 0.11149013 ... 0.6887018  0.68529016\n",
            "    0.6859305 ]\n",
            "   [0.16580646 0.14250416 0.15056773 ... 0.7224139  0.7248157\n",
            "    0.720908  ]\n",
            "   [0.16971421 0.14626767 0.17010652 ... 0.7471892  0.74827\n",
            "    0.7349775 ]\n",
            "   ...\n",
            "   [0.17194138 0.16412587 0.16412587 ... 0.23945406 0.24336183\n",
            "    0.2550851 ]\n",
            "   [0.14458708 0.13677156 0.13677156 ... 0.26290062 0.25899285\n",
            "    0.25899285]\n",
            "   [0.12895605 0.12504828 0.12895605 ... 0.31760925 0.31370148\n",
            "    0.30197823]]\n",
            "\n",
            "  [[0.05628449 0.05453568 0.04822318 ... 0.4129358  0.40834317\n",
            "    0.40585515]\n",
            "   [0.07377251 0.06363551 0.06571121 ... 0.41238704 0.41448894\n",
            "    0.41274014]\n",
            "   [0.07552132 0.0650285  0.07445522 ... 0.4012628  0.40620714\n",
            "    0.4052251 ]\n",
            "   ...\n",
            "   [0.07694733 0.07344972 0.07344972 ... 0.08648183 0.08823063\n",
            "    0.09347704]\n",
            "   [0.06470571 0.06120811 0.06120811 ... 0.09697466 0.09522586\n",
            "    0.09522586]\n",
            "   [0.0577105  0.0559617  0.0577105  ... 0.1214579  0.1197091\n",
            "    0.11446269]]]]\n",
            "Conv output shape: (1, 2, 32, 32)\n"
          ],
          "name": "stdout"
        }
      ]
    },
    {
      "cell_type": "markdown",
      "metadata": {
        "id": "KsDg8yateSuH"
      },
      "source": [
        "**In the cells below, you will create your own convolution routine that takes in the image and the initial weights used by Objax's own convolution routine (Conv2d.w.value) and show that your convolution routine returns the same value than Objax's.**\n",
        "\n",
        "A simple implementation only requires 4 FOR loops. You may wish to draw inspiration from https://objax.readthedocs.io/en/latest/objax/nn.html?highlight=objax.nn.Conv2D#objax.nn.Conv2D"
      ]
    },
    {
      "cell_type": "code",
      "metadata": {
        "id": "f5B6K9gyXTAx"
      },
      "source": [
        "#Solution to the above problem\n",
        "\n",
        "def my_conv_net(my_image, initial_filter_weights):\n",
        "  a, RGB, W, H = my_image.shape\n",
        "  \n",
        "  K1 = initial_filter_weights.shape[0]\n",
        "  K2 = initial_filter_weights.shape[1]\n",
        "  Wout = W - K1 + 1\n",
        "  Hout = H - K1 + 1\n",
        "  my_conv_output = np.zeros((1, initial_filter_weights.shape[3], Wout, Hout))\n",
        "\n",
        "  # loop through image \n",
        "  for w in range(W):\n",
        "    for h in range(H):\n",
        "      # loop through kernel\n",
        "      for k1 in range(K1):\n",
        "        for k2 in range(K2):\n",
        "          pixel = my_image[:,:,w+k1,h+k2]   # get pixel in image\n",
        "          pixel_weight = filter_weights[k1,k2,:,:]\n",
        "          conv = jn.dot(pixel, pixel_weight)   # apply filter\n",
        "          # place result in the output matrix directly because kernel\n",
        "          my_conv_output[:,:,w,h] = conv    \n",
        "\n",
        "  return my_conv_output"
      ],
      "execution_count": null,
      "outputs": []
    },
    {
      "cell_type": "markdown",
      "metadata": {
        "id": "d9dbovOwiVDE"
      },
      "source": [
        "The outputs of last convolution layer is typically rearranged so it can be fed into a linear layer. Check that calling .mean((2,3)) rearranges the output of your convolution routine by examining the shape of the output. (Not graded) Think about alternative ways of rearranging the output from the convolution layer. "
      ]
    },
    {
      "cell_type": "code",
      "metadata": {
        "id": "q7hngIUNXIMQ",
        "colab": {
          "base_uri": "https://localhost:8080/"
        },
        "outputId": "39b44b0d-a0cd-4570-d41b-e00998947cda"
      },
      "source": [
        "#Check that .mean((2,3)) rearranges your image\n",
        "rearranged = Conv2d(my_image).mean((2,3))\n",
        "my_conv_output = my_conv_net(my_image, filter_weights)\n",
        "print(\"Using Conv2d:\", rearranged)\n",
        "print(\"Using my_conv_net:\", my_conv_output.mean((2,3)))\n"
      ],
      "execution_count": null,
      "outputs": [
        {
          "output_type": "stream",
          "text": [
            "Using Conv2d: [[0.2895652 0.1107385]]\n",
            "Using my_conv_net: [[0.28956519 0.11073851]]\n"
          ],
          "name": "stdout"
        }
      ]
    },
    {
      "cell_type": "markdown",
      "metadata": {
        "id": "xTWfvL0mis3D"
      },
      "source": [
        "Take your rearranged output and feed it into a linear layer of appropriate size. Here is an example:\n",
        "\n",
        "```\n",
        "Linear_Layer = objax.nn.Linear(N, 1)\n",
        "Y = Linear_Layer(X)\n",
        "```\n",
        "Next, extract the weights and bias of the linear layer using \n",
        "```\n",
        "Linear_Layer.w.value\n",
        "Linear_Layer.b.value\n",
        "```\n",
        "**Using these values, write one line of code that manually implements the linear layer. Show that it provides the same value as Objax's own linear layer.** \n",
        "\n"
      ]
    },
    {
      "cell_type": "code",
      "metadata": {
        "id": "Uq-TkFpgXDC7",
        "colab": {
          "base_uri": "https://localhost:8080/"
        },
        "outputId": "4ed7e353-270d-420a-c936-f1f50fb3b959"
      },
      "source": [
        "num_inputs = my_conv_output.mean((2,3)).shape[1]\n",
        "\n",
        "Linear_Layer = objax.nn.Linear(num_inputs, 1)\n",
        "w = np.array(Linear_Layer.w.value).flatten()\n",
        "b = np.array(Linear_Layer.b.value).flatten()\n",
        "\n",
        "print(\"Objax's Linear Layer:\", Linear_Layer(my_conv_output.mean((2,3))))\n",
        "print(\"My Linear Layer:\", jn.dot(my_conv_output.mean((2,3)), w) + b)"
      ],
      "execution_count": null,
      "outputs": [
        {
          "output_type": "stream",
          "text": [
            "Objax's Linear Layer: [[0.1138427]]\n",
            "My Linear Layer: [0.1138427]\n"
          ],
          "name": "stdout"
        }
      ]
    },
    {
      "cell_type": "markdown",
      "metadata": {
        "id": "96QQXl3d2kZn"
      },
      "source": [
        "You have now completed Part 1 of the assignment. Good job!\n"
      ]
    },
    {
      "cell_type": "markdown",
      "metadata": {
        "id": "2kqaH75UUaSE"
      },
      "source": [
        "##**Part 2. Training and Tuning a CNN**\n",
        "\n",
        "The following starter code trains the neural network in Part 1. However, the optimizer and batch sampling routine are left for you to implement. Complete the lines that says #PUT YOUR CODE HERE#\n",
        "\n",
        "Afterwards, train the model, and observe the training/validation loss and accuracy plots. You should observe that the validation accuracy is low and stagnates after a few epochs."
      ]
    },
    {
      "cell_type": "code",
      "metadata": {
        "id": "zBcHWoCl0URZ"
      },
      "source": [
        "#Define loss function as averaged value of of cross entropies\n",
        "def loss_function(x, labels):\n",
        "    logit = model(x)\n",
        "    return objax.functional.loss.cross_entropy_logits_sparse(logit, labels).mean()\n",
        "\n",
        "#Define a prediction function\n",
        "predict = objax.Jit(lambda x: objax.functional.softmax(model(x)), model.vars()) \n",
        "\n",
        "#Create an object that can be used to calculate the gradient and value of loss_function\n",
        "gv= objax.GradValues(loss_function, model.vars())\n",
        "\n",
        "#Create an object that can be used to provide trainable variables in the model\n",
        "tv = objax.ModuleList(objax.TrainRef(x) for x in model.vars().subset(objax.TrainVar))\n",
        "\n",
        "#Training routine\n",
        "def train_op(x, y, learning_rate):\n",
        "    lr = learning_rate\n",
        "    gradient, loss_value = gv(x, y)   # calculate gradient and loss value \"backprop\"\n",
        "    #next we update the trainable parameter using SGD and similar procedure\n",
        "    for grad, params in zip(gradient, tv.vars()):   \n",
        "      params.value -= learning_rate * grad                \n",
        "    return loss_value                      # return loss value\n",
        "\n",
        "#make train_op (much) faster using JIT compilation\n",
        "train_op = objax.Jit(train_op, gv.vars() + tv.vars())"
      ],
      "execution_count": null,
      "outputs": []
    },
    {
      "cell_type": "code",
      "metadata": {
        "id": "hGPpVTfG0Ug1"
      },
      "source": [
        "def train(EPOCHS = 20, BATCH = 32, LEARNING_RATE = 9e-4):\n",
        "  avg_train_loss_epoch = []\n",
        "  avg_val_loss_epoch = []\n",
        "  train_acc_epoch = []\n",
        "  val_acc_epoch = []\n",
        "\n",
        "  for epoch in range(EPOCHS):\n",
        "      avg_train_loss = 0 # (averaged) training loss per batch\n",
        "      avg_val_loss =  0  # (averaged) validation loss per batch\n",
        "      train_acc = 0      # training accuracy per batch\n",
        "      val_acc = 0        # validation accuracy per batch\n",
        "\n",
        "      # shuffle the examples prior to training to remove correlation \n",
        "      train_indices = np.arange(len(X_train)) \n",
        "      np.random.shuffle(train_indices)\n",
        "      for it in range(0, X_train.shape[0], BATCH):\n",
        "          batch = train_indices[it:(it+BATCH)]\n",
        "          avg_train_loss += float(train_op(X_train[batch], Y_train[batch], LEARNING_RATE)[0]) * len(batch)\n",
        "          train_prediction = predict(X_train[batch]).argmax(1)\n",
        "          train_acc += (np.array(train_prediction).flatten() == Y_train[batch]).sum()\n",
        "      train_acc_epoch.append(train_acc/X_train.shape[0])\n",
        "      avg_train_loss_epoch.append(avg_train_loss/X_train.shape[0])\n",
        "\n",
        "      # run validation\n",
        "      val_indices = np.arange(len(X_valid)) \n",
        "      np.random.shuffle(val_indices)    \n",
        "      for it in range(0, X_valid.shape[0], BATCH):\n",
        "          batch = val_indices[it:(it+BATCH)]\n",
        "          avg_val_loss += float(loss_function(X_valid[batch], Y_valid[batch])) * len(batch)\n",
        "          val_prediction = predict(X_valid[batch]).argmax(1)\n",
        "          val_acc += (np.array(val_prediction).flatten() == Y_valid[batch]).sum()\n",
        "      val_acc_epoch.append(val_acc/X_valid.shape[0])\n",
        "      avg_val_loss_epoch.append(avg_val_loss/X_valid.shape[0])\n",
        "\n",
        "      print('Epoch %04d  Training Loss %.4f Validation Loss %.4f Training Accuracy %.4f Validation Accuracy %.4f' % (epoch + 1, avg_train_loss/X_train.shape[0], avg_val_loss/X_valid.shape[0], 100*train_acc/X_train.shape[0], 100*val_acc/X_valid.shape[0]))\n",
        "  \n",
        "  #Plot training loss\n",
        "  plt.title(\"Train vs Validation Loss\")\n",
        "  plt.plot(avg_train_loss_epoch, label=\"Train\")\n",
        "  plt.plot(avg_val_loss_epoch, label=\"Validation\")\n",
        "  plt.xlabel(\"Epoch\")\n",
        "  plt.ylabel(\"Loss\")\n",
        "  plt.legend(loc='best')\n",
        "  plt.show()\n",
        "\n",
        "  plt.title(\"Train vs Validation Accuracy\")\n",
        "  plt.plot(train_acc_epoch, label=\"Train\")\n",
        "  plt.plot(val_acc_epoch, label=\"Validation\")\n",
        "  plt.xlabel(\"Epoch\")\n",
        "  plt.ylabel(\"Accuracy (%)\")\n",
        "  plt.legend(loc='best')\n",
        "  plt.show()"
      ],
      "execution_count": null,
      "outputs": []
    },
    {
      "cell_type": "code",
      "metadata": {
        "id": "8YqWtV5VYW45",
        "colab": {
          "base_uri": "https://localhost:8080/",
          "height": 913
        },
        "outputId": "eaa4c59c-94fc-45f3-ad83-3616be9f3976"
      },
      "source": [
        "train()"
      ],
      "execution_count": null,
      "outputs": [
        {
          "output_type": "stream",
          "text": [
            "Epoch 0001  Training Loss 2.3072 Validation Loss 2.2922 Training Accuracy 10.7542 Validation Accuracy 14.0667\n",
            "Epoch 0002  Training Loss 2.2886 Validation Loss 2.2838 Training Accuracy 15.3688 Validation Accuracy 16.8000\n",
            "Epoch 0003  Training Loss 2.2805 Validation Loss 2.2753 Training Accuracy 16.8562 Validation Accuracy 17.5833\n",
            "Epoch 0004  Training Loss 2.2725 Validation Loss 2.2674 Training Accuracy 17.2354 Validation Accuracy 18.1667\n",
            "Epoch 0005  Training Loss 2.2645 Validation Loss 2.2586 Training Accuracy 17.5417 Validation Accuracy 18.2833\n",
            "Epoch 0006  Training Loss 2.2558 Validation Loss 2.2492 Training Accuracy 17.5896 Validation Accuracy 18.4167\n",
            "Epoch 0007  Training Loss 2.2461 Validation Loss 2.2389 Training Accuracy 17.6042 Validation Accuracy 18.4833\n",
            "Epoch 0008  Training Loss 2.2352 Validation Loss 2.2271 Training Accuracy 17.7104 Validation Accuracy 18.7667\n",
            "Epoch 0009  Training Loss 2.2228 Validation Loss 2.2139 Training Accuracy 17.7479 Validation Accuracy 18.9333\n",
            "Epoch 0010  Training Loss 2.2098 Validation Loss 2.2007 Training Accuracy 17.9333 Validation Accuracy 19.2500\n",
            "Epoch 0011  Training Loss 2.1968 Validation Loss 2.1877 Training Accuracy 18.1292 Validation Accuracy 19.3333\n",
            "Epoch 0012  Training Loss 2.1838 Validation Loss 2.1746 Training Accuracy 18.2583 Validation Accuracy 19.7000\n",
            "Epoch 0013  Training Loss 2.1715 Validation Loss 2.1626 Training Accuracy 18.3979 Validation Accuracy 19.3333\n",
            "Epoch 0014  Training Loss 2.1598 Validation Loss 2.1514 Training Accuracy 18.6167 Validation Accuracy 19.8333\n",
            "Epoch 0015  Training Loss 2.1492 Validation Loss 2.1418 Training Accuracy 18.7500 Validation Accuracy 19.7167\n",
            "Epoch 0016  Training Loss 2.1397 Validation Loss 2.1331 Training Accuracy 19.5063 Validation Accuracy 19.8833\n",
            "Epoch 0017  Training Loss 2.1315 Validation Loss 2.1250 Training Accuracy 19.6833 Validation Accuracy 19.8833\n",
            "Epoch 0018  Training Loss 2.1243 Validation Loss 2.1183 Training Accuracy 19.7167 Validation Accuracy 20.3500\n",
            "Epoch 0019  Training Loss 2.1181 Validation Loss 2.1134 Training Accuracy 20.1021 Validation Accuracy 21.0167\n",
            "Epoch 0020  Training Loss 2.1128 Validation Loss 2.1081 Training Accuracy 20.5604 Validation Accuracy 20.9333\n"
          ],
          "name": "stdout"
        },
        {
          "output_type": "display_data",
          "data": {
            "image/png": "[encoded data removed]",
            "text/plain": [
              "<Figure size 432x288 with 1 Axes>"
            ]
          },
          "metadata": {
            "tags": [],
            "needs_background": "light"
          }
        },
        {
          "output_type": "display_data",
          "data": {
            "image/png": "[encoded data removed]",
            "text/plain": [
              "<Figure size 432x288 with 1 Axes>"
            ]
          },
          "metadata": {
            "tags": [],
            "needs_background": "light"
          }
        }
      ]
    },
    {
      "cell_type": "markdown",
      "metadata": {
        "id": "hluN6UIbNyj7"
      },
      "source": [
        "Follow the assignment handout for questions to be answered in this part of the assignment."
      ]
    },
    {
      "cell_type": "markdown",
      "metadata": {
        "id": "X083O-7t4Kke"
      },
      "source": [
        "## Q5. Hyperparameters chosen\n",
        "\n",
        "### H1\n",
        "- kernel size: `k=3`\n",
        "- number of convolutional layers: `3`\n",
        "- number of outputs of the first hidden layer `16`\n",
        "- learning rate: `a=0.03`\n",
        "\n",
        "### H2\n",
        "- kernel size: `k=5`\n",
        "- number of convolutional layers: `2`\n",
        "- number of outputs of the first hidden layer `32`\n",
        "- learning rate: `a=0.05`"
      ]
    },
    {
      "cell_type": "markdown",
      "metadata": {
        "id": "iodSIz6RG7k0"
      },
      "source": [
        "## Using H1 hyperparameters"
      ]
    },
    {
      "cell_type": "code",
      "metadata": {
        "id": "BXdP1BUPmo8E",
        "colab": {
          "base_uri": "https://localhost:8080/"
        },
        "outputId": "f2f2865a-b101-491b-d527-ae8232fc316e"
      },
      "source": [
        "class ConvNetM1(objax.Module):\n",
        "  def __init__(self, number_of_channels = 3, number_of_classes = 10):\n",
        "    self.conv_1 = objax.nn.Sequential([objax.nn.Conv2D(nin=number_of_channels, nout=16, k=3), \n",
        "                                       objax.functional.relu])\n",
        "    self.conv_2 = objax.nn.Sequential([objax.nn.Conv2D(nin=16, nout=32, k=3), \n",
        "                                       objax.functional.relu])\n",
        "    self.conv_3 = objax.nn.Sequential([objax.nn.Conv2D(nin=32, nout=64, k=3), \n",
        "                                       objax.functional.relu])\n",
        "    self.linear = objax.nn.Linear(64, number_of_classes)\n",
        "\n",
        "  def __call__(self, x):\n",
        "    x = self.conv_1(x)\n",
        "    x = objax.functional.max_pool_2d(x, size=2, strides=2)\n",
        "    x = self.conv_2(x)\n",
        "    x = objax.functional.max_pool_2d(x, size=2, strides=2)\n",
        "    x = self.conv_3(x)\n",
        "\n",
        "    x = x.mean((2,3)) #<--- global average pooling \n",
        "    x = self.linear(x)\n",
        "    return x\n",
        "\n",
        "#The following line creates the CNN\n",
        "model = ConvNetM1()\n",
        "print(model.vars())"
      ],
      "execution_count": null,
      "outputs": [
        {
          "output_type": "stream",
          "text": [
            "(ConvNetM1).conv_1(Sequential)[0](Conv2D).b       16 (16, 1, 1)\n",
            "(ConvNetM1).conv_1(Sequential)[0](Conv2D).w      432 (3, 3, 3, 16)\n",
            "(ConvNetM1).conv_2(Sequential)[0](Conv2D).b       32 (32, 1, 1)\n",
            "(ConvNetM1).conv_2(Sequential)[0](Conv2D).w     4608 (3, 3, 16, 32)\n",
            "(ConvNetM1).conv_3(Sequential)[0](Conv2D).b       64 (64, 1, 1)\n",
            "(ConvNetM1).conv_3(Sequential)[0](Conv2D).w    18432 (3, 3, 32, 64)\n",
            "(ConvNetM1).linear(Linear).b                      10 (10,)\n",
            "(ConvNetM1).linear(Linear).w                     640 (64, 10)\n",
            "+Total(8)                                      24234\n"
          ],
          "name": "stdout"
        }
      ]
    },
    {
      "cell_type": "code",
      "metadata": {
        "id": "NwW4RenAnbLy"
      },
      "source": [
        "#Define loss function as averaged value of of cross entropies\n",
        "def loss_function(x, labels):\n",
        "    logit = model(x)\n",
        "    return objax.functional.loss.cross_entropy_logits_sparse(logit, labels).mean()\n",
        "\n",
        "#Define a prediction function\n",
        "predict = objax.Jit(lambda x: objax.functional.softmax(model(x)), model.vars()) \n",
        "\n",
        "#Create an object that can be used to calculate the gradient and value of loss_function\n",
        "gv= objax.GradValues(loss_function, model.vars())\n",
        "\n",
        "#Create an object that can be used to provide trainable variables in the model\n",
        "tv = objax.ModuleList(objax.TrainRef(x) for x in model.vars().subset(objax.TrainVar))\n",
        "\n",
        "# Training routine\n",
        "def train_op(x, y, learning_rate):\n",
        "    lr = learning_rate\n",
        "    gradient, loss_value = gv(x, y)   # calculate gradient and loss value \"backprop\"\n",
        "    #next we update the trainable parameter using SGD and similar procedure\n",
        "    for grad, params in zip(gradient, tv.vars()):  \n",
        "      params.value -= learning_rate * grad      \n",
        "    return loss_value                      # return loss value\n",
        "\n",
        "#make train_op (much) faster using JIT compilation\n",
        "train_op = objax.Jit(train_op, gv.vars() + tv.vars())"
      ],
      "execution_count": null,
      "outputs": []
    },
    {
      "cell_type": "code",
      "metadata": {
        "id": "ysTTiMmenvSZ",
        "colab": {
          "base_uri": "https://localhost:8080/",
          "height": 913
        },
        "outputId": "70a0c2a3-ac0f-4c1c-fe56-e81a18af8fd7"
      },
      "source": [
        "train(LEARNING_RATE = 0.03)"
      ],
      "execution_count": null,
      "outputs": [
        {
          "output_type": "stream",
          "text": [
            "Epoch 0001  Training Loss 2.0659 Validation Loss 1.8865 Training Accuracy 27.6208 Validation Accuracy 29.7167\n",
            "Epoch 0002  Training Loss 1.7943 Validation Loss 1.6820 Training Accuracy 39.3667 Validation Accuracy 37.4167\n",
            "Epoch 0003  Training Loss 1.6666 Validation Loss 1.5762 Training Accuracy 44.6708 Validation Accuracy 42.2000\n",
            "Epoch 0004  Training Loss 1.5751 Validation Loss 1.5322 Training Accuracy 49.0521 Validation Accuracy 42.3333\n",
            "Epoch 0005  Training Loss 1.4968 Validation Loss 1.4964 Training Accuracy 52.4583 Validation Accuracy 45.0167\n",
            "Epoch 0006  Training Loss 1.4325 Validation Loss 1.3726 Training Accuracy 54.9521 Validation Accuracy 50.2167\n",
            "Epoch 0007  Training Loss 1.3807 Validation Loss 1.3292 Training Accuracy 57.3937 Validation Accuracy 51.8000\n",
            "Epoch 0008  Training Loss 1.3298 Validation Loss 1.3534 Training Accuracy 59.6750 Validation Accuracy 52.1667\n",
            "Epoch 0009  Training Loss 1.2860 Validation Loss 1.2815 Training Accuracy 61.2729 Validation Accuracy 53.2000\n",
            "Epoch 0010  Training Loss 1.2448 Validation Loss 1.2356 Training Accuracy 62.9979 Validation Accuracy 56.3000\n",
            "Epoch 0011  Training Loss 1.2111 Validation Loss 1.1805 Training Accuracy 64.4458 Validation Accuracy 58.0833\n",
            "Epoch 0012  Training Loss 1.1793 Validation Loss 1.1828 Training Accuracy 65.8146 Validation Accuracy 57.1333\n",
            "Epoch 0013  Training Loss 1.1525 Validation Loss 1.1156 Training Accuracy 66.8979 Validation Accuracy 60.7500\n",
            "Epoch 0014  Training Loss 1.1276 Validation Loss 1.1259 Training Accuracy 67.8917 Validation Accuracy 59.4333\n",
            "Epoch 0015  Training Loss 1.1044 Validation Loss 1.1310 Training Accuracy 68.9792 Validation Accuracy 59.7667\n",
            "Epoch 0016  Training Loss 1.0853 Validation Loss 1.1132 Training Accuracy 69.6729 Validation Accuracy 60.4333\n",
            "Epoch 0017  Training Loss 1.0619 Validation Loss 1.0844 Training Accuracy 70.2792 Validation Accuracy 61.1000\n",
            "Epoch 0018  Training Loss 1.0455 Validation Loss 1.0312 Training Accuracy 71.1375 Validation Accuracy 63.0500\n",
            "Epoch 0019  Training Loss 1.0287 Validation Loss 1.0420 Training Accuracy 71.7792 Validation Accuracy 62.8833\n",
            "Epoch 0020  Training Loss 1.0104 Validation Loss 1.0247 Training Accuracy 72.4021 Validation Accuracy 63.6500\n"
          ],
          "name": "stdout"
        },
        {
          "output_type": "display_data",
          "data": {
            "image/png": "[encoded data removed]",
            "text/plain": [
              "<Figure size 432x288 with 1 Axes>"
            ]
          },
          "metadata": {
            "tags": [],
            "needs_background": "light"
          }
        },
        {
          "output_type": "display_data",
          "data": {
            "image/png": "[encoded data removed]",
            "text/plain": [
              "<Figure size 432x288 with 1 Axes>"
            ]
          },
          "metadata": {
            "tags": [],
            "needs_background": "light"
          }
        }
      ]
    },
    {
      "cell_type": "markdown",
      "metadata": {
        "id": "cs4vF7L5Gy2K"
      },
      "source": [
        "## Using H2 hyperparameters"
      ]
    },
    {
      "cell_type": "code",
      "metadata": {
        "id": "D2BNAX8V90zN",
        "colab": {
          "base_uri": "https://localhost:8080/"
        },
        "outputId": "921c6c25-eb4c-436f-a9cf-b3e4a5efc3ef"
      },
      "source": [
        "class ConvNetM2(objax.Module):\n",
        "  def __init__(self, number_of_channels = 3, number_of_classes = 10):\n",
        "    self.conv_1 = objax.nn.Sequential([objax.nn.Conv2D(nin=number_of_channels, nout=32, k=5), \n",
        "                                       objax.functional.relu])\n",
        "    self.conv_2 = objax.nn.Sequential([objax.nn.Conv2D(nin=32, nout=32, k=5), \n",
        "                                       objax.functional.relu])\n",
        "    self.linear = objax.nn.Linear(32, number_of_classes)\n",
        "\n",
        "  def __call__(self, x):\n",
        "    x = self.conv_1(x)\n",
        "    x = objax.functional.max_pool_2d(x, size=2, strides=2)\n",
        "    x = self.conv_2(x)\n",
        "\n",
        "    x = x.mean((2,3)) #<--- global average pooling \n",
        "    x = self.linear(x)\n",
        "    return x\n",
        "\n",
        "#The following line creates the CNN\n",
        "model = ConvNetM2()\n",
        "print(model.vars())"
      ],
      "execution_count": null,
      "outputs": [
        {
          "output_type": "stream",
          "text": [
            "(ConvNetM2).conv_1(Sequential)[0](Conv2D).b       32 (32, 1, 1)\n",
            "(ConvNetM2).conv_1(Sequential)[0](Conv2D).w     2400 (5, 5, 3, 32)\n",
            "(ConvNetM2).conv_2(Sequential)[0](Conv2D).b       32 (32, 1, 1)\n",
            "(ConvNetM2).conv_2(Sequential)[0](Conv2D).w    25600 (5, 5, 32, 32)\n",
            "(ConvNetM2).linear(Linear).b                      10 (10,)\n",
            "(ConvNetM2).linear(Linear).w                     320 (32, 10)\n",
            "+Total(6)                                      28394\n"
          ],
          "name": "stdout"
        }
      ]
    },
    {
      "cell_type": "code",
      "metadata": {
        "id": "iiANPTIb-GtZ"
      },
      "source": [
        "#Define loss function as averaged value of of cross entropies\n",
        "def loss_function(x, labels):\n",
        "    logit = model(x)\n",
        "    return objax.functional.loss.cross_entropy_logits_sparse(logit, labels).mean()\n",
        "\n",
        "#Define a prediction function\n",
        "predict = objax.Jit(lambda x: objax.functional.softmax(model(x)), model.vars()) \n",
        "\n",
        "#Create an object that can be used to calculate the gradient and value of loss_function\n",
        "gv= objax.GradValues(loss_function, model.vars())\n",
        "\n",
        "#Create an object that can be used to provide trainable variables in the model\n",
        "tv = objax.ModuleList(objax.TrainRef(x) for x in model.vars().subset(objax.TrainVar))\n",
        "\n",
        "# Training routine\n",
        "def train_op(x, y, learning_rate):\n",
        "    lr = learning_rate\n",
        "    gradient, loss_value = gv(x, y)   # calculate gradient and loss value \"backprop\"\n",
        "    #next we update the trainable parameter using SGD and similar procedure\n",
        "    for grad, params in zip(gradient, tv.vars()):  \n",
        "      params.value -= learning_rate * grad      \n",
        "    return loss_value                      # return loss value\n",
        "\n",
        "#make train_op (much) faster using JIT compilation\n",
        "train_op = objax.Jit(train_op, gv.vars() + tv.vars())"
      ],
      "execution_count": null,
      "outputs": []
    },
    {
      "cell_type": "code",
      "metadata": {
        "id": "GgpMzs5--Oyg",
        "colab": {
          "base_uri": "https://localhost:8080/",
          "height": 913
        },
        "outputId": "85a96d87-a194-46d6-c338-35394ac4ffee"
      },
      "source": [
        "train(LEARNING_RATE = 0.05)"
      ],
      "execution_count": null,
      "outputs": [
        {
          "output_type": "stream",
          "text": [
            "Epoch 0001  Training Loss 2.0401 Validation Loss 2.0023 Training Accuracy 29.0208 Validation Accuracy 23.9333\n",
            "Epoch 0002  Training Loss 1.7960 Validation Loss 1.7451 Training Accuracy 40.1875 Validation Accuracy 33.4667\n",
            "Epoch 0003  Training Loss 1.6720 Validation Loss 1.6237 Training Accuracy 45.6979 Validation Accuracy 39.8667\n",
            "Epoch 0004  Training Loss 1.5844 Validation Loss 1.5322 Training Accuracy 49.5542 Validation Accuracy 43.9333\n",
            "Epoch 0005  Training Loss 1.5169 Validation Loss 1.4767 Training Accuracy 52.0792 Validation Accuracy 45.6167\n",
            "Epoch 0006  Training Loss 1.4631 Validation Loss 1.4765 Training Accuracy 53.9958 Validation Accuracy 46.6667\n",
            "Epoch 0007  Training Loss 1.4252 Validation Loss 1.4043 Training Accuracy 55.7396 Validation Accuracy 50.4667\n",
            "Epoch 0008  Training Loss 1.3895 Validation Loss 1.3688 Training Accuracy 57.3021 Validation Accuracy 51.8000\n",
            "Epoch 0009  Training Loss 1.3613 Validation Loss 1.3440 Training Accuracy 58.5333 Validation Accuracy 52.2833\n",
            "Epoch 0010  Training Loss 1.3338 Validation Loss 1.3857 Training Accuracy 60.0167 Validation Accuracy 50.5000\n",
            "Epoch 0011  Training Loss 1.3100 Validation Loss 1.2722 Training Accuracy 60.9750 Validation Accuracy 54.5000\n",
            "Epoch 0012  Training Loss 1.2841 Validation Loss 1.3246 Training Accuracy 61.7938 Validation Accuracy 50.6333\n",
            "Epoch 0013  Training Loss 1.2639 Validation Loss 1.2306 Training Accuracy 62.6917 Validation Accuracy 55.9000\n",
            "Epoch 0014  Training Loss 1.2398 Validation Loss 1.2437 Training Accuracy 63.2979 Validation Accuracy 55.8167\n",
            "Epoch 0015  Training Loss 1.2230 Validation Loss 1.2674 Training Accuracy 64.2542 Validation Accuracy 55.0833\n",
            "Epoch 0016  Training Loss 1.2055 Validation Loss 1.1929 Training Accuracy 65.5167 Validation Accuracy 58.0167\n",
            "Epoch 0017  Training Loss 1.1867 Validation Loss 1.2308 Training Accuracy 65.8000 Validation Accuracy 54.9333\n",
            "Epoch 0018  Training Loss 1.1672 Validation Loss 1.1779 Training Accuracy 66.5854 Validation Accuracy 58.2333\n",
            "Epoch 0019  Training Loss 1.1526 Validation Loss 1.1568 Training Accuracy 67.2146 Validation Accuracy 58.7167\n",
            "Epoch 0020  Training Loss 1.1349 Validation Loss 1.1543 Training Accuracy 67.6167 Validation Accuracy 59.1833\n"
          ],
          "name": "stdout"
        },
        {
          "output_type": "display_data",
          "data": {
            "image/png": "[encoded data removed]",
            "text/plain": [
              "<Figure size 432x288 with 1 Axes>"
            ]
          },
          "metadata": {
            "tags": [],
            "needs_background": "light"
          }
        },
        {
          "output_type": "display_data",
          "data": {
            "image/png": "[encoded data removed]",
            "text/plain": [
              "<Figure size 432x288 with 1 Axes>"
            ]
          },
          "metadata": {
            "tags": [],
            "needs_background": "light"
          }
        }
      ]
    },
    {
      "cell_type": "markdown",
      "metadata": {
        "id": "t-0wQfRx5IE2"
      },
      "source": [
        "### Q7."
      ]
    },
    {
      "cell_type": "markdown",
      "metadata": {
        "id": "bkn-2bnvHBOt"
      },
      "source": [
        "## Using H2 hyperparameters on the test set\n",
        "- because it has less loss after 20 epochs\n",
        "- consistently decreasing loss after every epoch"
      ]
    },
    {
      "cell_type": "code",
      "metadata": {
        "id": "0pqzxLPK4M75"
      },
      "source": [
        "def test(BATCH = 3):\n",
        "    samples, channels, width, height = X_test.shape\n",
        "    # reshape into groups of BATCH size, (3, 32, 32) is the image's dimension\n",
        "    test_predictions = [predict(mini_batch).argmax(1) \n",
        "        for mini_batch in X_test.reshape((-1, BATCH, 3, 32, 32))]\n",
        "    test_predictions = np.array(test_predictions).flatten()\n",
        "    test_acc = np.mean(test_predictions == Y_test)*100\n",
        "    return test_acc"
      ],
      "execution_count": null,
      "outputs": []
    },
    {
      "cell_type": "code",
      "metadata": {
        "id": "c5INCuqaCOut",
        "colab": {
          "base_uri": "https://localhost:8080/"
        },
        "outputId": "d1f5b47d-9541-41ac-d4b3-756e61bb3f8c"
      },
      "source": [
        "print(\"Test Accuracy: %.2f\" % (test()))"
      ],
      "execution_count": null,
      "outputs": [
        {
          "output_type": "stream",
          "text": [
            "Test Accuracy: 57.4000\n"
          ],
          "name": "stdout"
        }
      ]
    },
    {
      "cell_type": "markdown",
      "metadata": {
        "id": "_XOXmJiGZF78"
      },
      "source": [
        "You have now completed Part 2 of the assignment. Good job!\n"
      ]
    },
    {
      "cell_type": "markdown",
      "metadata": {
        "id": "cno9fjO1o2Jq"
      },
      "source": [
        "##**Part 3. Trying Out a New Dataset**\n",
        "\n",
        "See the handout for instructions.\n"
      ]
    },
    {
      "cell_type": "markdown",
      "metadata": {
        "id": "Eye-uBnQWgc8"
      },
      "source": [
        "##**Problem 4. Open-Ended Exploration**\n",
        "\n",
        "See the handout for instructions."
      ]
    }
  ]
}